{
 "cells": [
  {
   "cell_type": "markdown",
   "metadata": {},
   "source": [
    "# Grid-Search Crossvalidation\n",
    "\n",
    "Here we implement the procedure recommended by [Hsu, Chang and Lin](http://www.csie.ntu.edu.tw/~cjlin/papers/guide/guide.pdf) for a robust application of an SVM via grid-searched model parameters optimized by training crossvalidation. No great improvement is found for this dataset."
   ]
  },
  {
   "cell_type": "code",
   "execution_count": 1,
   "metadata": {
    "collapsed": true
   },
   "outputs": [],
   "source": [
    "# helpers\n",
    "\n",
    "import json\n",
    "import random\n",
    "import numpy as np\n",
    "\n",
    "def printSummary(title, TT, TF, FT, FF):\n",
    "    print title\n",
    "    print '\\t Correct flags:', TT\n",
    "    print '\\t False positive:', TF\n",
    "    print '\\t False negative:', FT\n",
    "    print '\\t Correct pass:', FF\n",
    "\n",
    "def shuffleLists(a, b):\n",
    "  '''\n",
    "  given two lists a, b, shuffle them maintaining pairwise correspondence.\n",
    "  thanks http://stackoverflow.com/questions/13343347/randomizing-two-lists-and-maintaining-order-in-python\n",
    "  '''\n",
    "\n",
    "  combined = zip(a, b)\n",
    "  random.seed(2154)\n",
    "  random.shuffle(combined)\n",
    "\n",
    "  a[:], b[:] = zip(*combined)\n",
    "\n",
    "def reloadData(): \n",
    "    ## read raw data\n",
    "    with open('../../../AutoQC_raw/true.dat') as true_data:    \n",
    "        truth = json.load(true_data)\n",
    "\n",
    "    with open('../../../AutoQC_raw/results.dat') as results_data:    \n",
    "        rawResults = json.load(results_data)\n",
    "        \n",
    "    return truth, rawResults\n",
    "\n",
    "def transpose(lists):\n",
    "    '''\n",
    "    return the transpose of lists, a list of lists.\n",
    "    all the inner lists had better be the same length!\n",
    "    '''\n",
    "\n",
    "    T = []\n",
    "    for i in range(len(lists[0])):\n",
    "        T.append([None]*len(lists))\n",
    "\n",
    "    for i in range(len(lists)):\n",
    "        for j in range(len(lists[0])):\n",
    "            T[j][i] = lists[i][j]\n",
    "\n",
    "    return T\n",
    "\n",
    "def reloadData(): \n",
    "    ## read raw data\n",
    "    with open('../../../AutoQC_raw/true.dat') as true_data:    \n",
    "        truth = json.load(true_data)\n",
    "\n",
    "    with open('../../../AutoQC_raw/results.dat') as results_data:    \n",
    "        rawResults = json.load(results_data)\n",
    "        \n",
    "    return truth, rawResults\n",
    "\n",
    "def runClassifier(classifier, trainingSize):\n",
    "    '''\n",
    "    given a scikit-learn classifier, train it on the first trainingSize points of data and truth,\n",
    "    and return the prediction classes on the remainder of data\n",
    "    '''\n",
    "    #load and arrange data\n",
    "    truth, rawResults = reloadData()\n",
    "    data = transpose(rawResults) #arrange data into rows by profile for consumption by scikit-learn\n",
    "    shuffleLists(data, truth)    #randomize order of profiles\n",
    "    \n",
    "    #train svm\n",
    "    classifier.fit(data[0:trainingSize], truth[0:trainingSize])\n",
    "\n",
    "    #predict values for remainder of profiles\n",
    "    TT = 0.\n",
    "    TF = 0.\n",
    "    FT = 0.\n",
    "    FF = 0.\n",
    "\n",
    "    for i in range(trainingSize, len(truth)):\n",
    "        assessment = classifier.predict(data[i])\n",
    "        if assessment and truth[i]:\n",
    "            TT += 1\n",
    "        elif assessment and not truth[i]:\n",
    "            TF += 1\n",
    "        elif not assessment and truth[i]:\n",
    "            FT += 1\n",
    "        elif not assessment and not truth[i]:\n",
    "            FF += 1  \n",
    "            \n",
    "    return TT, TF, FT, FF\n",
    "\n",
    "truth, rawResults = reloadData()\n",
    "datasetSize = len(truth)\n",
    "data = transpose(rawResults)\n",
    "shuffleLists(data, truth)\n",
    "trainingSize = 5000\n"
   ]
  },
  {
   "cell_type": "code",
   "execution_count": 2,
   "metadata": {
    "collapsed": false
   },
   "outputs": [],
   "source": [
    "#crossvalidation\n",
    "\n",
    "def crossvalidate(classifier, data, truth, folds):\n",
    "    '''\n",
    "    run an n-fold crossvalidation on the training data and classifier provided\n",
    "    '''\n",
    "    \n",
    "    foldSize = len(truth) / folds\n",
    "    correct = 0.\n",
    "    \n",
    "    for i in range(folds):\n",
    "        testData = data[i*foldSize : (i+1)*foldSize]\n",
    "        testTruth = truth[i*foldSize : (i+1)*foldSize]\n",
    "        trainingData = data[: i*foldSize] + data[(i+1)*foldSize:]\n",
    "        trainingTruth = truth[: i*foldSize] + truth[(i+1)*foldSize:]\n",
    "        \n",
    "        classifier.fit(trainingData, trainingTruth)\n",
    "        \n",
    "        for j in range(foldSize):\n",
    "            guess = classifier.predict(testData[j])\n",
    "            if guess and testTruth[j]:\n",
    "                correct += 1\n",
    "            elif not guess and not testTruth[j]:\n",
    "                correct += 1\n",
    "                \n",
    "    return correct / len(truth)"
   ]
  },
  {
   "cell_type": "code",
   "execution_count": 3,
   "metadata": {
    "collapsed": false
   },
   "outputs": [
    {
     "data": {
      "text/plain": [
       "(0.919, 0.125, 2)"
      ]
     },
     "execution_count": 3,
     "metadata": {},
     "output_type": "execute_result"
    }
   ],
   "source": [
    "from sklearn import svm\n",
    "\n",
    "gammaGrid = [2**-15, 2**-13, 2**-11, 2**-9, 2**-7, 2**-5, 2**-3, 2**-1, 2, 8]\n",
    "cGrid = [2**-5, 2**-3, 2**-1, 2, 2**3, 2**5, 2**7, 2**9, 2**11, 2**13, 2**15]\n",
    "results = []\n",
    "\n",
    "for g in gammaGrid:\n",
    "    for c in cGrid:\n",
    "        clf = svm.SVC(C=c, gamma=g, kernel='rbf')\n",
    "        results.append((crossvalidate(clf, data[0:trainingSize], truth[0:trainingSize], 5), c, g))\n",
    "\n",
    "from operator import itemgetter\n",
    "max(results,key=itemgetter(0))"
   ]
  },
  {
   "cell_type": "code",
   "execution_count": 4,
   "metadata": {
    "collapsed": false
   },
   "outputs": [
    {
     "name": "stdout",
     "output_type": "stream",
     "text": [
      "SVM with grid-searched RBF kernel\n",
      "\t Correct flags: 0.0553164397461\n",
      "\t False positive: 0.0200149880295\n",
      "\t False negative: 0.0612453328205\n",
      "\t Correct pass: 0.863423239404\n"
     ]
    }
   ],
   "source": [
    "clf = svm.SVC(C=.125, gamma=2, kernel='rbf')\n",
    "TT, TF, FT, FF = runClassifier(clf, trainingSize)\n",
    "printSummary('SVM with grid-searched RBF kernel', TT/(datasetSize-trainingSize), TF/(datasetSize-trainingSize), FT/(datasetSize-trainingSize), FF/(datasetSize-trainingSize))"
   ]
  },
  {
   "cell_type": "markdown",
   "metadata": {},
   "source": [
    "So we see the RBF kernel rising to the level of the default performance of the linear kernel. We attempt the same procedure with a linear kernel:"
   ]
  },
  {
   "cell_type": "code",
   "execution_count": 5,
   "metadata": {
    "collapsed": false
   },
   "outputs": [
    {
     "data": {
      "text/plain": [
       "(0.9162, 2)"
      ]
     },
     "execution_count": 5,
     "metadata": {},
     "output_type": "execute_result"
    }
   ],
   "source": [
    "cGrid = [2**-5, 2**-3, 2**-1, 2, 2**3, 2**5, 2**7, 2**9, 2**11, 2**13, 2**15]\n",
    "results = []\n",
    "\n",
    "for c in cGrid:\n",
    "    clf = svm.SVC(C=c, kernel='linear')\n",
    "    results.append((crossvalidate(clf, data[0:trainingSize], truth[0:trainingSize], 5), c))\n",
    "\n",
    "from operator import itemgetter\n",
    "max(results,key=itemgetter(0))"
   ]
  },
  {
   "cell_type": "code",
   "execution_count": 6,
   "metadata": {
    "collapsed": false
   },
   "outputs": [
    {
     "name": "stdout",
     "output_type": "stream",
     "text": [
      "SVM with grid-searched linear kernel\n",
      "\t Correct flags: 0.0544741920723\n",
      "\t False positive: 0.0184100751391\n",
      "\t False negative: 0.0620875804943\n",
      "\t Correct pass: 0.865028152294\n"
     ]
    }
   ],
   "source": [
    "clf = svm.SVC(C=2, kernel='linear')\n",
    "TT, TF, FT, FF = runClassifier(clf, trainingSize)\n",
    "printSummary('SVM with grid-searched linear kernel', TT/(datasetSize-trainingSize), TF/(datasetSize-trainingSize), FT/(datasetSize-trainingSize), FF/(datasetSize-trainingSize))"
   ]
  },
  {
   "cell_type": "code",
   "execution_count": null,
   "metadata": {
    "collapsed": true
   },
   "outputs": [],
   "source": []
  }
 ],
 "metadata": {
  "kernelspec": {
   "display_name": "Python 2",
   "language": "python",
   "name": "python2"
  },
  "language_info": {
   "codemirror_mode": {
    "name": "ipython",
    "version": 2
   },
   "file_extension": ".py",
   "mimetype": "text/x-python",
   "name": "python",
   "nbconvert_exporter": "python",
   "pygments_lexer": "ipython2",
   "version": "2.7.10"
  }
 },
 "nbformat": 4,
 "nbformat_minor": 0
}
