{
 "cells": [
  {
   "cell_type": "code",
   "execution_count": 173,
   "metadata": {
    "collapsed": true
   },
   "outputs": [],
   "source": [
    "import pandas, numpy\n",
    "from sklearn import svm\n",
    "from sklearn.qda import QDA\n",
    "from sklearn.kernel_ridge import KernelRidge\n",
    "from sklearn.neighbors.nearest_centroid import NearestCentroid"
   ]
  },
  {
   "cell_type": "code",
   "execution_count": 174,
   "metadata": {
    "collapsed": false
   },
   "outputs": [],
   "source": [
    "results = pandas.read_csv('results-most.csv')\n",
    "\n",
    "# drop some qctests\n",
    "results = results.drop('CSIRO_gradient', 1)\n",
    "results = results.drop('CoTeDe_anomaly_detection', 1)\n",
    "\n",
    "# shuffle the dataframe\n",
    "results.iloc[numpy.random.permutation(len(results))]\n",
    "\n",
    "# slice up for svm\n",
    "truth = results.ix[:,1].tolist()\n",
    "qctests = results.ix[:,2:].values.tolist()\n",
    "\n",
    "trainingSize = 1000"
   ]
  },
  {
   "cell_type": "code",
   "execution_count": 175,
   "metadata": {
    "collapsed": false
   },
   "outputs": [],
   "source": [
    "def performance(truth, qcresult):\n",
    "    # check the performance of a single column qcresult\n",
    "\n",
    "    TT = 0.\n",
    "    FF = 0.\n",
    "    TF = 0.\n",
    "    FT = 0.\n",
    "    T = 0.\n",
    "    F = 0.\n",
    "    \n",
    "    for i in range(len(qcresult)):\n",
    "        if truth[i]:\n",
    "            T += 1.\n",
    "        else:\n",
    "            F += 1.\n",
    "        \n",
    "        if qcresult[i] and truth[i]:\n",
    "            TT += 1.\n",
    "        elif qcresult[i] and not truth[i]:\n",
    "            TF += 1.\n",
    "        elif not qcresult[i] and truth[i]:\n",
    "            FT += 1.\n",
    "        elif not qcresult[i] and not truth[i]:\n",
    "            FF += 1.\n",
    "    \n",
    "    return (TT/T, FT/T, FF/F, TF/F)"
   ]
  },
  {
   "cell_type": "code",
   "execution_count": 176,
   "metadata": {
    "collapsed": false
   },
   "outputs": [
    {
     "name": "stdout",
     "output_type": "stream",
     "text": [
      "Argo_global_range_check (0.1596244131455399, 0.8403755868544601, 1.0, 0.0)\n",
      "Argo_gradient_test (0.27386541471048514, 0.7261345852895149, 0.9990945011524531, 0.0009054988475469213)\n",
      "Argo_impossible_date_test (0.0, 1.0, 1.0, 0.0)\n",
      "Argo_impossible_location_test (0.0, 1.0, 1.0, 0.0)\n",
      "Argo_pressure_increasing_test (0.11580594679186229, 0.8841940532081377, 0.866480079025354, 0.13351992097464604)\n",
      "Argo_regional_range_test (0.006259780907668232, 0.9937402190923318, 0.9999176819229503, 8.231807704972011e-05)\n",
      "Argo_spike_test (0.0297339593114241, 0.9702660406885759, 1.0, 0.0)\n",
      "CSIRO_depth (0.837245696400626, 0.162754303599374, 0.2642410273296016, 0.7357589726703985)\n",
      "CSIRO_wire_break (0.2519561815336463, 0.7480438184663537, 1.0, 0.0)\n",
      "CoTeDe_Argo_density_inversion (0.3489827856025039, 0.651017214397496, 0.5221435627263747, 0.4778564372736253)\n",
      "CoTeDe_GTSPP_WOA_normbias (0.8497652582159625, 0.15023474178403756, 0.8016134343101745, 0.1983865656898255)\n",
      "CoTeDe_GTSPP_global_range (0.16118935837245696, 0.838810641627543, 1.0, 0.0)\n",
      "CoTeDe_GTSPP_gradient (0.1752738654147105, 0.8247261345852895, 0.9990945011524531, 0.0009054988475469213)\n",
      "CoTeDe_GTSPP_spike_check (0.03286384976525822, 0.9671361502347418, 0.9997530457688508, 0.0002469542311491604)\n",
      "CoTeDe_RoC (0.24882629107981222, 0.7511737089201878, 0.9987652288442542, 0.0012347711557458018)\n",
      "CoTeDe_WOA_normbias (0.6118935837245696, 0.38810641627543035, 0.9228679618044122, 0.07713203819558775)\n",
      "CoTeDe_digit_roll_over (0.2863849765258216, 0.7136150234741784, 0.990862693447481, 0.009137306552518933)\n",
      "CoTeDe_fuzzy_logic (0.7449139280125195, 0.25508607198748046, 0.8888705959828779, 0.11112940401712217)\n",
      "CoTeDe_gradient (0.18779342723004694, 0.812206572769953, 0.9990945011524531, 0.0009054988475469213)\n",
      "CoTeDe_location_at_sea_test (0.004694835680751174, 0.9953051643192489, 0.9997530457688508, 0.0002469542311491604)\n",
      "CoTeDe_profile_envelop (0.2895148669796557, 0.7104851330203443, 1.0, 0.0)\n",
      "CoTeDe_spike (0.02190923317683881, 0.9780907668231612, 1.0, 0.0)\n",
      "CoTeDe_tukey53H_norm (0.06572769953051644, 0.9342723004694836, 0.9978597299967072, 0.002140270003292723)\n",
      "EN_background_available_check (0.018779342723004695, 0.9812206572769953, 0.9997530457688508, 0.0002469542311491604)\n",
      "EN_background_check (0.4381846635367762, 0.5618153364632238, 0.9464109318406322, 0.0535890681593678)\n",
      "EN_constant_value_check (0.001564945226917058, 0.9984350547730829, 1.0, 0.0)\n",
      "EN_range_check (0.1596244131455399, 0.8403755868544601, 1.0, 0.0)\n",
      "EN_spike_and_step_check (0.025039123630672927, 0.974960876369327, 0.9999176819229503, 8.231807704972011e-05)\n",
      "EN_spike_and_step_suspect (0.29107981220657275, 0.7089201877934272, 0.9980243661508067, 0.001975633849193283)\n",
      "EN_stability_check (0.012519561815336464, 0.9874804381846636, 0.9983536384590056, 0.0016463615409944023)\n",
      "ICDC_aqc_01_level_order (0.0, 1.0, 1.0, 0.0)\n",
      "ICDC_aqc_02_crude_range (0.297339593114241, 0.702660406885759, 0.9995884096147514, 0.0004115903852486006)\n",
      "ICDC_aqc_04_max_obs_depth (0.0, 1.0, 1.0, 0.0)\n",
      "ICDC_aqc_05_stuck_value (0.006259780907668232, 0.9937402190923318, 1.0, 0.0)\n",
      "ICDC_aqc_06_n_temperature_extrema (0.017214397496087636, 0.9827856025039123, 1.0, 0.0)\n",
      "ICDC_aqc_07_spike_check (0.026604068857589983, 0.97339593114241, 1.0, 0.0)\n",
      "ICDC_aqc_08_gradient_check (0.28012519561815336, 0.7198748043818466, 0.9970365492262101, 0.0029634507737899243)\n",
      "ICDC_aqc_09_local_climatology_check (0.7762128325508607, 0.2237871674491393, 0.7737076061903194, 0.2262923938096806)\n",
      "WOD_gradient_check (0.3004694835680751, 0.6995305164319249, 0.9939084622983207, 0.006091537701679289)\n"
     ]
    }
   ],
   "source": [
    "for i in range(2,len(qctests[0])):\n",
    "    print results.columns[i], performance(truth, results.ix[:,i].tolist())"
   ]
  },
  {
   "cell_type": "code",
   "execution_count": 177,
   "metadata": {
    "collapsed": false
   },
   "outputs": [
    {
     "data": {
      "text/plain": [
       "SVC(C=1.0, cache_size=200, class_weight={0: 1, 1: 100}, coef0=0.0, degree=3,\n",
       "  gamma=0.0, kernel='linear', max_iter=-1, probability=False,\n",
       "  random_state=None, shrinking=True, tol=0.001, verbose=False)"
      ]
     },
     "execution_count": 177,
     "metadata": {},
     "output_type": "execute_result"
    }
   ],
   "source": [
    "# create and train an svm\n",
    "\n",
    "svm_classifier = svm.SVC(kernel='linear', class_weight = {0: 1, 1: 100})\n",
    "svm_classifier.fit(qctests[0:trainingSize], truth[0:trainingSize])"
   ]
  },
  {
   "cell_type": "code",
   "execution_count": 178,
   "metadata": {
    "collapsed": false
   },
   "outputs": [
    {
     "data": {
      "text/plain": [
       "QDA(priors=None, reg_param=0.0)"
      ]
     },
     "execution_count": 178,
     "metadata": {},
     "output_type": "execute_result"
    }
   ],
   "source": [
    "# create and train a qda\n",
    "\n",
    "qda_classifier = QDA()\n",
    "qda_classifier.fit(qctests[0:trainingSize], truth[0:trainingSize])"
   ]
  },
  {
   "cell_type": "code",
   "execution_count": 179,
   "metadata": {
    "collapsed": false
   },
   "outputs": [
    {
     "data": {
      "text/plain": [
       "KernelRidge(alpha=1, coef0=1, degree=3, gamma=None, kernel='linear',\n",
       "      kernel_params=None)"
      ]
     },
     "execution_count": 179,
     "metadata": {},
     "output_type": "execute_result"
    }
   ],
   "source": [
    "# create and train a kernel ridge\n",
    "\n",
    "kr_classifier = KernelRidge(kernel='linear')\n",
    "kr_classifier.fit(qctests[0:trainingSize], truth[0:trainingSize])"
   ]
  },
  {
   "cell_type": "code",
   "execution_count": 180,
   "metadata": {
    "collapsed": false
   },
   "outputs": [
    {
     "data": {
      "text/plain": [
       "NearestCentroid(metric='euclidean', shrink_threshold=None)"
      ]
     },
     "execution_count": 180,
     "metadata": {},
     "output_type": "execute_result"
    }
   ],
   "source": [
    "# create and train a nearest centroid\n",
    "\n",
    "nc_classifier = NearestCentroid()\n",
    "nc_classifier.fit(qctests[0:trainingSize], truth[0:trainingSize])"
   ]
  },
  {
   "cell_type": "code",
   "execution_count": 185,
   "metadata": {
    "collapsed": false
   },
   "outputs": [
    {
     "data": {
      "text/plain": [
       "(0.9036544850498339,\n",
       " 0.09634551495016612,\n",
       " 0.6796602592758159,\n",
       " 0.3203397407241842)"
      ]
     },
     "execution_count": 185,
     "metadata": {},
     "output_type": "execute_result"
    }
   ],
   "source": [
    "svm_prediction = svm_classifier.predict(qctests[trainingSize:])\n",
    "qda_prediction = qda_classifier.predict(qctests[trainingSize:])\n",
    "kr_prediction = kr_classifier.predict(qctests[trainingSize:])\n",
    "nc_prediction = nc_classifier.predict(qctests[trainingSize:])\n",
    "final_prediction = [ svm_prediction[i] or qda_prediction[i] for i in range(0,len(svm_prediction))]\n",
    "performance(truth[trainingSize:], final_prediction)"
   ]
  },
  {
   "cell_type": "code",
   "execution_count": null,
   "metadata": {
    "collapsed": true
   },
   "outputs": [],
   "source": []
  }
 ],
 "metadata": {
  "kernelspec": {
   "display_name": "Python 2",
   "language": "python",
   "name": "python2"
  },
  "language_info": {
   "codemirror_mode": {
    "name": "ipython",
    "version": 2
   },
   "file_extension": ".py",
   "mimetype": "text/x-python",
   "name": "python",
   "nbconvert_exporter": "python",
   "pygments_lexer": "ipython2",
   "version": "2.7.10"
  }
 },
 "nbformat": 4,
 "nbformat_minor": 0
}
